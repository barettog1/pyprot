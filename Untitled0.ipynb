{
 "metadata": {
  "name": "",
  "signature": "sha256:a6661a755e4ab04c6884ad1e24972668588d3f6dfc924f41af77e27d57b1af2e"
 },
 "nbformat": 3,
 "nbformat_minor": 0,
 "worksheets": [
  {
   "cells": [
    {
     "cell_type": "code",
     "collapsed": false,
     "input": [
      "try:\n",
      "    with open('/Users/sebastian/Desktop/test.txt', 'r') as infile:\n",
      "        test = [row.strip() for row in infile.read().split('\\n') if row.strip()]\n",
      "except FileNotFoundError as err:\n",
      "    print(err)\n",
      "test"
     ],
     "language": "python",
     "metadata": {},
     "outputs": [
      {
       "metadata": {},
       "output_type": "pyout",
       "prompt_number": 11,
       "text": [
        "['This', 'is jst', 'sadfsadf', 'test!']"
       ]
      }
     ],
     "prompt_number": 11
    },
    {
     "cell_type": "code",
     "collapsed": false,
     "input": [
      "import pyprot"
     ],
     "language": "python",
     "metadata": {},
     "outputs": [],
     "prompt_number": 2
    },
    {
     "cell_type": "code",
     "collapsed": false,
     "input": [
      "t = pyprot.Pdb(\"./tests/data/pdbs/small_3EIY_h.pdb\")\n",
      "t.strip_h()"
     ],
     "language": "python",
     "metadata": {},
     "outputs": [
      {
       "metadata": {},
       "output_type": "pyout",
       "prompt_number": 3,
       "text": [
        "['USER  MOD reduce.3.14.080821 H: found=0, std=0, add=25, rem=0, adj=2',\n",
        " 'HEADER    HYDROLASE                               17-SEP-08   3EIY',\n",
        " 'TITLE     CRYSTAL STRUCTURE OF INORGANIC PYROPHOSPHATASE FROM BURKHOLDERIA',\n",
        " 'TITLE    2 PSEUDOMALLEI WITH BOUND PYROPHOSPHATE',\n",
        " 'COMPND    MOL_ID: 1;',\n",
        " 'COMPND   2 MOLECULE: INORGANIC PYROPHOSPHATASE;',\n",
        " 'COMPND   4 EC: 3.6.1.1;',\n",
        " 'COMPND   5 ENGINEERED: YES',\n",
        " 'SOURCE    MOL_ID: 1;',\n",
        " 'SOURCE   2 ORGANISM_SCIENTIFIC: BURKHOLDERIA PSEUDOMALLEI 1710B;',\n",
        " 'SOURCE   3 ORGANISM_TAXID: 320372;',\n",
        " 'SOURCE   4 GENE: PPA, BURPS1710B_1237;',\n",
        " 'USER  MOD -----------------------------------------------------------------',\n",
        " 'USER  MOD scores for adjustable sidechains, with \"set\" totals for H,N and Q',\n",
        " 'USER  MOD \"o\" means original, \"f\" means flipped, \"180deg\" is methyl default',\n",
        " 'USER  MOD \"!\" flags a clash with an overlap of 0.40A or greater',\n",
        " 'USER  MOD flip categories: \"K\"=keep, \"C\"=clashes, \"X\"=uncertain, \"F\"=flip',\n",
        " 'USER  MOD Set 1.1: A   4 SER OG  :   rot  180:sc=       0',\n",
        " 'USER  MOD Set 1.2: A   5 ASN     :      amide:sc=       0  X(o=0,f=0)',\n",
        " 'USER  MOD Single : A   2 SER OG  :   rot  180:sc=       0',\n",
        " 'USER  MOD -----------------------------------------------------------------',\n",
        " 'ATOM      1  N   SER A   2       2.527  54.656  -1.667  1.00 52.73           N',\n",
        " 'ATOM      2  CA  SER A   2       3.259  54.783  -0.368  1.00 52.54           C',\n",
        " 'ATOM      3  C   SER A   2       4.127  53.553  -0.105  1.00 52.03           C',\n",
        " 'ATOM      4  O   SER A   2       5.274  53.451  -0.594  1.00 52.45           O',\n",
        " 'ATOM      5  CB  SER A   2       2.273  54.944   0.792  1.00 52.69           C',\n",
        " 'ATOM      6  OG  SER A   2       2.066  56.306   1.121  1.00 54.37           O',\n",
        " 'ATOM      7  N   PHE A   3       3.563  52.626   0.674  1.00 50.61           N',\n",
        " 'ATOM      8  CA  PHE A   3       4.261  51.413   1.102  1.00 48.73           C',\n",
        " 'ATOM      9  C   PHE A   3       4.881  50.670  -0.064  1.00 48.17           C',\n",
        " 'ATOM     10  O   PHE A   3       6.035  50.257   0.019  1.00 47.56           O',\n",
        " 'ATOM     11  CB  PHE A   3       3.342  50.479   1.896  1.00 47.95           C',\n",
        " 'ATOM     12  CG  PHE A   3       2.747  51.112   3.120  1.00 46.23           C',\n",
        " 'ATOM     13  CD1 PHE A   3       3.425  52.100   3.804  1.00 43.75           C',\n",
        " 'ATOM     14  CD2 PHE A   3       1.509  50.701   3.594  1.00 45.77           C',\n",
        " 'ATOM     15  CE1 PHE A   3       2.893  52.679   4.942  1.00 44.62           C',\n",
        " 'ATOM     16  CE2 PHE A   3       0.955  51.280   4.728  1.00 45.65           C',\n",
        " 'ATOM     17  CZ  PHE A   3       1.655  52.273   5.409  1.00 45.91           C',\n",
        " 'ATOM     18  N   SER A   4       4.122  50.518  -1.151  1.00 47.69           N',\n",
        " 'ATOM     19  CA  SER A   4       4.593  49.745  -2.323  1.00 47.00           C',\n",
        " 'ATOM     20  C   SER A   4       5.896  50.254  -2.977  1.00 45.29           C',\n",
        " 'ATOM     21  O   SER A   4       6.627  49.479  -3.592  1.00 45.34           O',\n",
        " 'ATOM     22  CB  SER A   4       3.489  49.633  -3.387  1.00 47.47           C',\n",
        " 'ATOM     23  OG  SER A   4       3.169  50.916  -3.908  1.00 49.92           O',\n",
        " 'ATOM     24  N   ASN A   5       6.184  51.544  -2.832  1.00 43.32           N',\n",
        " 'ATOM     25  CA  ASN A   5       7.351  52.145  -3.480  1.00 41.42           C',\n",
        " 'ATOM     26  C   ASN A   5       8.584  52.307  -2.574  1.00 39.00           C',\n",
        " 'ATOM     27  O   ASN A   5       9.629  52.802  -3.000  1.00 38.69           O',\n",
        " 'ATOM     28  CB  ASN A   5       6.958  53.491  -4.094  1.00 42.02           C',\n",
        " 'ATOM     29  CG  ASN A   5       6.108  53.321  -5.366  1.00 45.67           C',\n",
        " 'ATOM     30  OD1 ASN A   5       4.862  53.286  -5.312  1.00 48.48           O',\n",
        " 'ATOM     31  ND2 ASN A   5       6.784  53.176  -6.513  1.00 47.35           N',\n",
        " 'ATOM     32  N   VAL A   6       8.466  51.922  -1.312  1.00 35.70           N',\n",
        " 'ATOM     33  CA  VAL A   6       9.636  51.959  -0.457  1.00 32.41           C',\n",
        " 'TER    1331      LYS A 175',\n",
        " 'HETATM 1332  K     K A 176      24.990  43.276   0.005  0.50 24.45           K',\n",
        " 'HETATM 1333 NA    NA A 177       1.633  34.181  11.897  1.00 26.73          NA',\n",
        " 'HETATM 1334 NA    NA A 178       6.489  35.143   8.444  1.00 30.89          NA']"
       ]
      }
     ],
     "prompt_number": 3
    },
    {
     "cell_type": "code",
     "collapsed": false,
     "input": [
      "t = 'HETATM 1334 NA    NA A 178       6.489  35.143   8.444  1.00 30.89          NA'\n",
      "print(t[77])"
     ],
     "language": "python",
     "metadata": {},
     "outputs": [
      {
       "output_type": "stream",
       "stream": "stdout",
       "text": [
        "A\n"
       ]
      }
     ],
     "prompt_number": 13
    },
    {
     "cell_type": "code",
     "collapsed": false,
     "input": [
      "len(t)"
     ],
     "language": "python",
     "metadata": {},
     "outputs": [
      {
       "metadata": {},
       "output_type": "pyout",
       "prompt_number": 14,
       "text": [
        "78"
       ]
      }
     ],
     "prompt_number": 14
    },
    {
     "cell_type": "code",
     "collapsed": false,
     "input": [],
     "language": "python",
     "metadata": {},
     "outputs": []
    }
   ],
   "metadata": {}
  }
 ]
}